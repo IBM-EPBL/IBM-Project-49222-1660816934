{
 "cells": [
  {
   "cell_type": "markdown",
   "id": "b624dce4",
   "metadata": {},
   "source": [
    "# Import the Libraries "
   ]
  },
  {
   "cell_type": "code",
   "execution_count": 5,
   "id": "b37306e9",
   "metadata": {},
   "outputs": [],
   "source": [
    "from tensorflow.keras.models import Sequential\n",
    "from tensorflow.keras.layers import Dense "
   ]
  },
  {
   "cell_type": "code",
   "execution_count": 6,
   "id": "5bbfcd4e",
   "metadata": {},
   "outputs": [],
   "source": [
    "#import the  cnn layers"
   ]
  },
  {
   "cell_type": "code",
   "execution_count": 7,
   "id": "a84cd6f1",
   "metadata": {},
   "outputs": [],
   "source": [
    "from tensorflow.keras.layers import Convolution2D\n",
    "from tensorflow.keras.layers import MaxPooling2D\n",
    "from tensorflow.keras.layers import Flatten"
   ]
  },
  {
   "cell_type": "markdown",
   "id": "91299029",
   "metadata": {},
   "source": [
    "# 2.Image Augmentation"
   ]
  },
  {
   "cell_type": "code",
   "execution_count": 8,
   "id": "9fcfface",
   "metadata": {},
   "outputs": [],
   "source": [
    "#image preprocession or image augmentation\n",
    "from tensorflow.keras.preprocessing.image import ImageDataGenerator"
   ]
  },
  {
   "cell_type": "code",
   "execution_count": 9,
   "id": "57534fe0",
   "metadata": {},
   "outputs": [],
   "source": [
    "train_datagen = ImageDataGenerator(rescale=1./255, shear_range=0.2,zoom_range=0.2,horizontal_flip=True,vertical_flip=True)\n",
    "#rescale=>rescaling pixel value from 0 to 255 to 255 to 0 to 1\n",
    "# shear_range=> counter clockwise rotation (anti clock)"
   ]
  },
  {
   "cell_type": "code",
   "execution_count": 10,
   "id": "409bd303",
   "metadata": {},
   "outputs": [
    {
     "name": "stdout",
     "output_type": "stream",
     "text": [
      "Found 3453 images belonging to 5 classes.\n"
     ]
    }
   ],
   "source": [
    "x_train = train_datagen.flow_from_directory(r\"D:\\Anaconda\\data set\\Training\",target_size=(64,64),batch_size=32,class_mode=\"categorical\")"
   ]
  },
  {
   "cell_type": "code",
   "execution_count": 11,
   "id": "79f29a20",
   "metadata": {},
   "outputs": [],
   "source": [
    "test_datagen = ImageDataGenerator(rescale=1./255)"
   ]
  },
  {
   "cell_type": "code",
   "execution_count": 12,
   "id": "27986f62",
   "metadata": {},
   "outputs": [
    {
     "name": "stdout",
     "output_type": "stream",
     "text": [
      "Found 864 images belonging to 5 classes.\n"
     ]
    }
   ],
   "source": [
    "x_test = test_datagen.flow_from_directory(r\"D:\\Anaconda\\data set\\Testing\",target_size=(64,64),batch_size=32,class_mode=\"categorical\")"
   ]
  },
  {
   "cell_type": "code",
   "execution_count": 13,
   "id": "ff361196",
   "metadata": {},
   "outputs": [
    {
     "data": {
      "text/plain": [
       "{'daisy': 0, 'dandelion': 1, 'rose': 2, 'sunflower': 3, 'tulip': 4}"
      ]
     },
     "execution_count": 13,
     "metadata": {},
     "output_type": "execute_result"
    }
   ],
   "source": [
    "x_train.class_indices"
   ]
  },
  {
   "cell_type": "markdown",
   "id": "96247601",
   "metadata": {},
   "source": [
    "# 3.Create Model"
   ]
  },
  {
   "cell_type": "code",
   "execution_count": 14,
   "id": "5a8c25fe",
   "metadata": {},
   "outputs": [],
   "source": [
    "model = Sequential()"
   ]
  },
  {
   "cell_type": "markdown",
   "id": "4e2c6168",
   "metadata": {},
   "source": [
    "# 4. Add Layers (Convolution,MaxPooling,Flatten,Dense-(HiddenLayers),Output)"
   ]
  },
  {
   "cell_type": "code",
   "execution_count": 15,
   "id": "8192b70e",
   "metadata": {},
   "outputs": [],
   "source": [
    "model.add(Convolution2D(32,(3,3),input_shape=(64,64,3),activation=\"relu\"))\n",
    "#32 indicates =>no of feature detector\n",
    "#(3,3)=>kernal size (feature detector size)"
   ]
  },
  {
   "cell_type": "code",
   "execution_count": 16,
   "id": "668808de",
   "metadata": {},
   "outputs": [],
   "source": [
    "model.add(MaxPooling2D(pool_size=(2,2)))"
   ]
  },
  {
   "cell_type": "code",
   "execution_count": 17,
   "id": "f6b58270",
   "metadata": {},
   "outputs": [],
   "source": [
    "model.add(Flatten())"
   ]
  },
  {
   "cell_type": "code",
   "execution_count": 18,
   "id": "44ce717d",
   "metadata": {},
   "outputs": [],
   "source": [
    "model.add(Dense(units=300,kernel_initializer=\"random_uniform\",activation=\"relu\")) # hidden layer"
   ]
  },
  {
   "cell_type": "code",
   "execution_count": 19,
   "id": "941e360f",
   "metadata": {},
   "outputs": [],
   "source": [
    "model.add(Dense(units=200,kernel_initializer=\"random_uniform\",activation=\"relu\"))"
   ]
  },
  {
   "cell_type": "code",
   "execution_count": 20,
   "id": "809a3dd0",
   "metadata": {},
   "outputs": [
    {
     "name": "stdout",
     "output_type": "stream",
     "text": [
      "Model: \"sequential\"\n",
      "_________________________________________________________________\n",
      " Layer (type)                Output Shape              Param #   \n",
      "=================================================================\n",
      " conv2d (Conv2D)             (None, 62, 62, 32)        896       \n",
      "                                                                 \n",
      " max_pooling2d (MaxPooling2D  (None, 31, 31, 32)       0         \n",
      " )                                                               \n",
      "                                                                 \n",
      " flatten (Flatten)           (None, 30752)             0         \n",
      "                                                                 \n",
      " dense (Dense)               (None, 300)               9225900   \n",
      "                                                                 \n",
      " dense_1 (Dense)             (None, 200)               60200     \n",
      "                                                                 \n",
      " dense_2 (Dense)             (None, 5)                 1005      \n",
      "                                                                 \n",
      "=================================================================\n",
      "Total params: 9,288,001\n",
      "Trainable params: 9,288,001\n",
      "Non-trainable params: 0\n",
      "_________________________________________________________________\n"
     ]
    }
   ],
   "source": [
    "#output layer\n",
    "model.add(Dense(units=5,kernel_initializer=\"random_uniform\",activation=\"softmax\"))\n",
    "model.summary()"
   ]
  },
  {
   "cell_type": "markdown",
   "id": "644e5fdf",
   "metadata": {},
   "source": [
    "# 5.Compile The Model"
   ]
  },
  {
   "cell_type": "code",
   "execution_count": 21,
   "id": "73c2ed0d",
   "metadata": {},
   "outputs": [],
   "source": [
    "#compile the model\n",
    "model.compile(loss=\"categorical_crossentropy\",optimizer=\"adam\",metrics=['accuracy'])"
   ]
  },
  {
   "cell_type": "markdown",
   "id": "b2737ee7",
   "metadata": {},
   "source": [
    "# 6.Fit The Model"
   ]
  },
  {
   "cell_type": "code",
   "execution_count": 20,
   "id": "2f852cce",
   "metadata": {
    "scrolled": true
   },
   "outputs": [
    {
     "name": "stderr",
     "output_type": "stream",
     "text": [
      "C:\\Users\\Hari\\AppData\\Local\\Temp\\ipykernel_11796\\1102939130.py:2: UserWarning: `Model.fit_generator` is deprecated and will be removed in a future version. Please use `Model.fit`, which supports generators.\n",
      "  model.fit_generator(x_train,steps_per_epoch=108,epochs=30,validation_data=x_test,validation_steps=27)\n"
     ]
    },
    {
     "name": "stdout",
     "output_type": "stream",
     "text": [
      "Epoch 1/30\n",
      "108/108 [==============================] - 49s 449ms/step - loss: 0.1567 - accuracy: 0.9461 - val_loss: 2.4369 - val_accuracy: 0.5926\n",
      "Epoch 2/30\n",
      "108/108 [==============================] - 51s 475ms/step - loss: 0.1613 - accuracy: 0.9412 - val_loss: 2.2384 - val_accuracy: 0.6065\n",
      "Epoch 3/30\n",
      "108/108 [==============================] - 50s 461ms/step - loss: 0.1220 - accuracy: 0.9597 - val_loss: 2.2116 - val_accuracy: 0.6273\n",
      "Epoch 4/30\n",
      "108/108 [==============================] - 64s 587ms/step - loss: 0.1217 - accuracy: 0.9615 - val_loss: 2.3019 - val_accuracy: 0.6227\n",
      "Epoch 5/30\n",
      "108/108 [==============================] - 51s 474ms/step - loss: 0.1161 - accuracy: 0.9589 - val_loss: 2.2689 - val_accuracy: 0.6354\n",
      "Epoch 6/30\n",
      "108/108 [==============================] - 50s 459ms/step - loss: 0.1336 - accuracy: 0.9592 - val_loss: 2.3241 - val_accuracy: 0.6169\n",
      "Epoch 7/30\n",
      "108/108 [==============================] - 51s 475ms/step - loss: 0.1143 - accuracy: 0.9624 - val_loss: 2.3847 - val_accuracy: 0.6204\n",
      "Epoch 8/30\n",
      "108/108 [==============================] - 62s 573ms/step - loss: 0.1128 - accuracy: 0.9600 - val_loss: 2.6224 - val_accuracy: 0.6123\n",
      "Epoch 9/30\n",
      "108/108 [==============================] - 67s 624ms/step - loss: 0.1274 - accuracy: 0.9589 - val_loss: 2.3718 - val_accuracy: 0.5926\n",
      "Epoch 10/30\n",
      "108/108 [==============================] - 61s 563ms/step - loss: 0.1271 - accuracy: 0.9568 - val_loss: 2.3541 - val_accuracy: 0.6157\n",
      "Epoch 11/30\n",
      "108/108 [==============================] - 56s 513ms/step - loss: 0.1161 - accuracy: 0.9583 - val_loss: 2.6145 - val_accuracy: 0.6134\n",
      "Epoch 12/30\n",
      "108/108 [==============================] - 58s 538ms/step - loss: 0.1107 - accuracy: 0.9624 - val_loss: 2.6750 - val_accuracy: 0.5961\n",
      "Epoch 13/30\n",
      "108/108 [==============================] - 66s 610ms/step - loss: 0.0955 - accuracy: 0.9661 - val_loss: 2.8704 - val_accuracy: 0.6019\n",
      "Epoch 14/30\n",
      "108/108 [==============================] - 67s 612ms/step - loss: 0.0973 - accuracy: 0.9679 - val_loss: 2.5511 - val_accuracy: 0.5833\n",
      "Epoch 15/30\n",
      "108/108 [==============================] - 60s 557ms/step - loss: 0.1151 - accuracy: 0.9574 - val_loss: 2.4616 - val_accuracy: 0.6100\n",
      "Epoch 16/30\n",
      "108/108 [==============================] - 116s 1s/step - loss: 0.0853 - accuracy: 0.9681 - val_loss: 2.9806 - val_accuracy: 0.5984\n",
      "Epoch 17/30\n",
      "108/108 [==============================] - 121s 1s/step - loss: 0.0856 - accuracy: 0.9731 - val_loss: 2.6737 - val_accuracy: 0.6019\n",
      "Epoch 18/30\n",
      "108/108 [==============================] - 94s 865ms/step - loss: 0.1219 - accuracy: 0.9632 - val_loss: 2.5145 - val_accuracy: 0.6157\n",
      "Epoch 19/30\n",
      "108/108 [==============================] - 97s 890ms/step - loss: 0.1210 - accuracy: 0.9589 - val_loss: 2.5637 - val_accuracy: 0.5949\n",
      "Epoch 20/30\n",
      "108/108 [==============================] - 98s 906ms/step - loss: 0.1017 - accuracy: 0.9684 - val_loss: 2.6355 - val_accuracy: 0.6019\n",
      "Epoch 21/30\n",
      "108/108 [==============================] - 119s 1s/step - loss: 0.1022 - accuracy: 0.9679 - val_loss: 2.4847 - val_accuracy: 0.6157\n",
      "Epoch 22/30\n",
      "108/108 [==============================] - 107s 983ms/step - loss: 0.0879 - accuracy: 0.9699 - val_loss: 2.7602 - val_accuracy: 0.6123\n",
      "Epoch 23/30\n",
      "108/108 [==============================] - 102s 944ms/step - loss: 0.1077 - accuracy: 0.9612 - val_loss: 3.0856 - val_accuracy: 0.5787\n",
      "Epoch 24/30\n",
      "108/108 [==============================] - 103s 944ms/step - loss: 0.0943 - accuracy: 0.9702 - val_loss: 2.4781 - val_accuracy: 0.6238\n",
      "Epoch 25/30\n",
      "108/108 [==============================] - 102s 941ms/step - loss: 0.0862 - accuracy: 0.9696 - val_loss: 2.8915 - val_accuracy: 0.6088\n",
      "Epoch 26/30\n",
      "108/108 [==============================] - 115s 1s/step - loss: 0.0878 - accuracy: 0.9696 - val_loss: 2.8352 - val_accuracy: 0.6262\n",
      "Epoch 27/30\n",
      "108/108 [==============================] - 105s 967ms/step - loss: 0.0946 - accuracy: 0.9667 - val_loss: 3.1276 - val_accuracy: 0.6227\n",
      "Epoch 28/30\n",
      "108/108 [==============================] - 111s 1s/step - loss: 0.0975 - accuracy: 0.9638 - val_loss: 2.7388 - val_accuracy: 0.6134\n",
      "Epoch 29/30\n",
      "108/108 [==============================] - 108s 993ms/step - loss: 0.0889 - accuracy: 0.9710 - val_loss: 2.5905 - val_accuracy: 0.6343\n",
      "Epoch 30/30\n",
      "108/108 [==============================] - 107s 983ms/step - loss: 0.0847 - accuracy: 0.9710 - val_loss: 2.7746 - val_accuracy: 0.6134\n"
     ]
    },
    {
     "data": {
      "text/plain": [
       "<keras.callbacks.History at 0x163ab282940>"
      ]
     },
     "execution_count": 20,
     "metadata": {},
     "output_type": "execute_result"
    }
   ],
   "source": [
    "# train the model\n",
    "model.fit_generator(x_train,steps_per_epoch=108,epochs=30,validation_data=x_test,validation_steps=27)"
   ]
  },
  {
   "cell_type": "markdown",
   "id": "0d995ee5",
   "metadata": {},
   "source": [
    "# 7.Save the Model"
   ]
  },
  {
   "cell_type": "code",
   "execution_count": 22,
   "id": "4258b756",
   "metadata": {},
   "outputs": [],
   "source": [
    "model.save(\"Flowers.h5\")"
   ]
  },
  {
   "cell_type": "markdown",
   "id": "c9447757",
   "metadata": {},
   "source": [
    "# 8.Test the model"
   ]
  },
  {
   "cell_type": "code",
   "execution_count": 23,
   "id": "065f876b",
   "metadata": {},
   "outputs": [],
   "source": [
    "import numpy as np\n",
    "from tensorflow.keras.models import load_model\n",
    "from tensorflow.keras.preprocessing import image"
   ]
  },
  {
   "cell_type": "code",
   "execution_count": 24,
   "id": "e6ba7ed6",
   "metadata": {},
   "outputs": [],
   "source": [
    "#load the model\n",
    "model=load_model(\"flowers.h5\")"
   ]
  },
  {
   "cell_type": "code",
   "execution_count": 25,
   "id": "8c89e7f0",
   "metadata": {},
   "outputs": [],
   "source": [
    "img=image.load_img(r\"D:\\Anaconda\\data set\\Testing\\daisy\\18195689904_46619b7e16_n.jpg\")"
   ]
  },
  {
   "cell_type": "code",
   "execution_count": 26,
   "id": "b61a3f78",
   "metadata": {},
   "outputs": [
    {
     "data": {
      "image/png": "[encoded data removed]",
      "text/plain": [
       "<PIL.JpegImagePlugin.JpegImageFile image mode=RGB size=320x213 at 0x1A3BD5F04F0>"
      ]
     },
     "execution_count": 26,
     "metadata": {},
     "output_type": "execute_result"
    }
   ],
   "source": [
    "img"
   ]
  },
  {
   "cell_type": "code",
   "execution_count": 28,
   "id": "ed966a46",
   "metadata": {},
   "outputs": [
    {
     "data": {
      "image/png": "[encoded data removed]",
      "text/plain": [
       "<PIL.Image.Image image mode=RGB size=64x64 at 0x1A3BE4D4A90>"
      ]
     },
     "execution_count": 28,
     "metadata": {},
     "output_type": "execute_result"
    }
   ],
   "source": [
    "img=image.load_img(r\"D:\\Anaconda\\data set\\Testing\\daisy\\18195689904_46619b7e16_n.jpg\", target_size=(64,64))\n",
    "img"
   ]
  },
  {
   "cell_type": "code",
   "execution_count": 29,
   "id": "143549dd",
   "metadata": {},
   "outputs": [],
   "source": [
    "x=image.img_to_array(img)"
   ]
  },
  {
   "cell_type": "code",
   "execution_count": 30,
   "id": "7d001704",
   "metadata": {},
   "outputs": [
    {
     "data": {
      "text/plain": [
       "array([[[0., 0., 0.],\n",
       "        [0., 0., 0.],\n",
       "        [0., 0., 0.],\n",
       "        ...,\n",
       "        [0., 0., 0.],\n",
       "        [0., 0., 0.],\n",
       "        [0., 0., 0.]],\n",
       "\n",
       "       [[0., 0., 0.],\n",
       "        [0., 0., 0.],\n",
       "        [0., 0., 0.],\n",
       "        ...,\n",
       "        [0., 0., 0.],\n",
       "        [0., 0., 0.],\n",
       "        [0., 0., 0.]],\n",
       "\n",
       "       [[0., 0., 0.],\n",
       "        [0., 0., 0.],\n",
       "        [0., 0., 0.],\n",
       "        ...,\n",
       "        [0., 0., 0.],\n",
       "        [0., 0., 0.],\n",
       "        [0., 0., 0.]],\n",
       "\n",
       "       ...,\n",
       "\n",
       "       [[0., 0., 0.],\n",
       "        [0., 0., 0.],\n",
       "        [0., 0., 0.],\n",
       "        ...,\n",
       "        [0., 0., 0.],\n",
       "        [0., 0., 0.],\n",
       "        [0., 0., 0.]],\n",
       "\n",
       "       [[0., 0., 0.],\n",
       "        [0., 0., 0.],\n",
       "        [0., 0., 0.],\n",
       "        ...,\n",
       "        [0., 0., 0.],\n",
       "        [0., 0., 0.],\n",
       "        [0., 0., 0.]],\n",
       "\n",
       "       [[0., 0., 0.],\n",
       "        [0., 0., 0.],\n",
       "        [0., 0., 0.],\n",
       "        ...,\n",
       "        [0., 0., 0.],\n",
       "        [0., 0., 0.],\n",
       "        [0., 0., 0.]]], dtype=float32)"
      ]
     },
     "execution_count": 30,
     "metadata": {},
     "output_type": "execute_result"
    }
   ],
   "source": [
    "x"
   ]
  },
  {
   "cell_type": "code",
   "execution_count": 31,
   "id": "a2810e0c",
   "metadata": {},
   "outputs": [],
   "source": [
    "x=np.expand_dims(x,axis=0)"
   ]
  },
  {
   "cell_type": "code",
   "execution_count": 32,
   "id": "67834e43",
   "metadata": {},
   "outputs": [
    {
     "data": {
      "text/plain": [
       "array([[[[0., 0., 0.],\n",
       "         [0., 0., 0.],\n",
       "         [0., 0., 0.],\n",
       "         ...,\n",
       "         [0., 0., 0.],\n",
       "         [0., 0., 0.],\n",
       "         [0., 0., 0.]],\n",
       "\n",
       "        [[0., 0., 0.],\n",
       "         [0., 0., 0.],\n",
       "         [0., 0., 0.],\n",
       "         ...,\n",
       "         [0., 0., 0.],\n",
       "         [0., 0., 0.],\n",
       "         [0., 0., 0.]],\n",
       "\n",
       "        [[0., 0., 0.],\n",
       "         [0., 0., 0.],\n",
       "         [0., 0., 0.],\n",
       "         ...,\n",
       "         [0., 0., 0.],\n",
       "         [0., 0., 0.],\n",
       "         [0., 0., 0.]],\n",
       "\n",
       "        ...,\n",
       "\n",
       "        [[0., 0., 0.],\n",
       "         [0., 0., 0.],\n",
       "         [0., 0., 0.],\n",
       "         ...,\n",
       "         [0., 0., 0.],\n",
       "         [0., 0., 0.],\n",
       "         [0., 0., 0.]],\n",
       "\n",
       "        [[0., 0., 0.],\n",
       "         [0., 0., 0.],\n",
       "         [0., 0., 0.],\n",
       "         ...,\n",
       "         [0., 0., 0.],\n",
       "         [0., 0., 0.],\n",
       "         [0., 0., 0.]],\n",
       "\n",
       "        [[0., 0., 0.],\n",
       "         [0., 0., 0.],\n",
       "         [0., 0., 0.],\n",
       "         ...,\n",
       "         [0., 0., 0.],\n",
       "         [0., 0., 0.],\n",
       "         [0., 0., 0.]]]], dtype=float32)"
      ]
     },
     "execution_count": 32,
     "metadata": {},
     "output_type": "execute_result"
    }
   ],
   "source": [
    "x"
   ]
  },
  {
   "cell_type": "code",
   "execution_count": 33,
   "id": "d0b6666c",
   "metadata": {},
   "outputs": [
    {
     "name": "stdout",
     "output_type": "stream",
     "text": [
      "1/1 [==============================] - 4s 4s/step\n"
     ]
    }
   ],
   "source": [
    "y=np.argmax(model.predict(x),axis=0)"
   ]
  },
  {
   "cell_type": "code",
   "execution_count": 34,
   "id": "47086a42",
   "metadata": {},
   "outputs": [
    {
     "data": {
      "text/plain": [
       "array([0, 0, 0, 0, 0], dtype=int64)"
      ]
     },
     "execution_count": 34,
     "metadata": {},
     "output_type": "execute_result"
    }
   ],
   "source": [
    "y"
   ]
  },
  {
   "cell_type": "code",
   "execution_count": 35,
   "id": "4ca11f46",
   "metadata": {},
   "outputs": [
    {
     "data": {
      "text/plain": [
       "{'daisy': 0, 'dandelion': 1, 'rose': 2, 'sunflower': 3, 'tulip': 4}"
      ]
     },
     "execution_count": 35,
     "metadata": {},
     "output_type": "execute_result"
    }
   ],
   "source": [
    "x_train.class_indices"
   ]
  },
  {
   "cell_type": "code",
   "execution_count": 36,
   "id": "1cf4138c",
   "metadata": {},
   "outputs": [],
   "source": [
    "index=['daisy','dandelion','rose','sunflower']"
   ]
  },
  {
   "cell_type": "code",
   "execution_count": 37,
   "id": "5b5b8f75",
   "metadata": {},
   "outputs": [
    {
     "data": {
      "text/plain": [
       "'daisy'"
      ]
     },
     "execution_count": 37,
     "metadata": {},
     "output_type": "execute_result"
    }
   ],
   "source": [
    "index[y[0]]"
   ]
  },
  {
   "cell_type": "code",
   "execution_count": 51,
   "id": "64a0a80f",
   "metadata": {},
   "outputs": [
    {
     "name": "stdout",
     "output_type": "stream",
     "text": [
      "1/1 [==============================] - 0s 71ms/step\n"
     ]
    },
    {
     "data": {
      "text/plain": [
       "'dandelion'"
      ]
     },
     "execution_count": 51,
     "metadata": {},
     "output_type": "execute_result"
    }
   ],
   "source": [
    "img=image.load_img(r\"D:\\Anaconda\\data set\\Testing\\dandelin\\17570530696_6a497298ee_n.jpg\", target_size=(64,64))\n",
    "x=image.img_to_array(img)\n",
    "x=np.expand_dims(x,axis=0)\n",
    "y=np.argmax(model.predict(x),axis=1)\n",
    "index=['daisy','dandelion','rose','sunflower']\n",
    "index[y[0]]"
   ]
  },
  {
   "cell_type": "code",
   "execution_count": 52,
   "id": "1ee857bd",
   "metadata": {},
   "outputs": [
    {
     "data": {
      "image/png": "[encoded data removed]",
      "text/plain": [
       "<PIL.Image.Image image mode=RGB size=64x64 at 0x1A3C1B61B80>"
      ]
     },
     "execution_count": 52,
     "metadata": {},
     "output_type": "execute_result"
    }
   ],
   "source": [
    "img"
   ]
  },
  {
   "cell_type": "code",
   "execution_count": 58,
   "id": "7e6caf4b",
   "metadata": {},
   "outputs": [
    {
     "name": "stdout",
     "output_type": "stream",
     "text": [
      "1/1 [==============================] - 0s 71ms/step\n"
     ]
    },
    {
     "data": {
      "text/plain": [
       "'rose'"
      ]
     },
     "execution_count": 58,
     "metadata": {},
     "output_type": "execute_result"
    }
   ],
   "source": [
    "img=image.load_img(r\"D:\\Anaconda\\data set\\Testing\\rose\\13929462317_96342a9a44.jpg\", target_size=(64,64))\n",
    "x=image.img_to_array(img)\n",
    "x=np.expand_dims(x,axis=0)\n",
    "y=np.argmax(model.predict(x),axis=1)\n",
    "index=['daisy','rose','dandelion','sunflower']\n",
    "index[y[0]]"
   ]
  },
  {
   "cell_type": "code",
   "execution_count": 59,
   "id": "62bf4fde",
   "metadata": {},
   "outputs": [
    {
     "data": {
      "image/png": "[encoded data removed]",
      "text/plain": [
       "<PIL.Image.Image image mode=RGB size=64x64 at 0x1A3C1D0B220>"
      ]
     },
     "execution_count": 59,
     "metadata": {},
     "output_type": "execute_result"
    }
   ],
   "source": [
    "img"
   ]
  },
  {
   "cell_type": "code",
   "execution_count": 60,
   "id": "54b9bd63",
   "metadata": {},
   "outputs": [
    {
     "name": "stdout",
     "output_type": "stream",
     "text": [
      "1/1 [==============================] - 0s 72ms/step\n"
     ]
    },
    {
     "data": {
      "text/plain": [
       "'sunflower'"
      ]
     },
     "execution_count": 60,
     "metadata": {},
     "output_type": "execute_result"
    }
   ],
   "source": [
    "img=image.load_img(r\"D:\\Anaconda\\data set\\Testing\\sunflower\\12471441503_d188b5f31a_m.jpg\", target_size=(64,64))\n",
    "x=image.img_to_array(img)\n",
    "x=np.expand_dims(x,axis=0)\n",
    "y=np.argmax(model.predict(x),axis=0)\n",
    "index=['sunflower','daisy','dandelion','rose']\n",
    "index[y[0]]"
   ]
  },
  {
   "cell_type": "code",
   "execution_count": 61,
   "id": "4ab21d1d",
   "metadata": {},
   "outputs": [
    {
     "data": {
      "image/png": "[encoded data removed]",
      "text/plain": [
       "<PIL.Image.Image image mode=RGB size=64x64 at 0x1A3C1E55CA0>"
      ]
     },
     "execution_count": 61,
     "metadata": {},
     "output_type": "execute_result"
    }
   ],
   "source": [
    "img"
   ]
  },
  {
   "cell_type": "code",
   "execution_count": null,
   "id": "0819e885",
   "metadata": {},
   "outputs": [],
   "source": []
  }
 ],
 "metadata": {
  "kernelspec": {
   "display_name": "Python 3 (ipykernel)",
   "language": "python",
   "name": "python3"
  },
  "language_info": {
   "codemirror_mode": {
    "name": "ipython",
    "version": 3
   },
   "file_extension": ".py",
   "mimetype": "text/x-python",
   "name": "python",
   "nbconvert_exporter": "python",
   "pygments_lexer": "ipython3",
   "version": "3.9.12"
  }
 },
 "nbformat": 4,
 "nbformat_minor": 5
}
