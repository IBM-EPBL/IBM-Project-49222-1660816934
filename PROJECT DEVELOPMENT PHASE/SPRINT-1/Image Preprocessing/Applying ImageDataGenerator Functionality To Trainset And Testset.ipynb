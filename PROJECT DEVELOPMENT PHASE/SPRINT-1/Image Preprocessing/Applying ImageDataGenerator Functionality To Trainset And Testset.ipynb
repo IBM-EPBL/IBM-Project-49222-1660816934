{
 "cells": [
  {
   "cell_type": "code",
   "execution_count": 8,
   "id": "89e66287",
   "metadata": {},
   "outputs": [
    {
     "name": "stdout",
     "output_type": "stream",
     "text": [
      "Found 436 images belonging to 2 classes.\n"
     ]
    }
   ],
   "source": [
    "#Applying ImageDataGenerator functionality to trainset.\n",
    "x_train = train_datagen.flow_from_directory(r\"D:\\Anaconda\\Main project\\Dataset\\train_set\",target_size = (128,128),batch_size = 32,class_mode = 'binary')"
   ]
  },
  {
   "cell_type": "code",
   "execution_count": 9,
   "id": "11ae9f6a",
   "metadata": {},
   "outputs": [
    {
     "name": "stdout",
     "output_type": "stream",
     "text": [
      "Found 121 images belonging to 2 classes.\n"
     ]
    }
   ],
   "source": [
    "#Applying ImageDataGenerator functionality to testset.\n",
    "x_test = test_datagen.flow_from_directory(r\"D:\\Anaconda\\Main project\\Dataset\\test_set\",target_size = (128,128),batch_size = 32,class_mode = 'binary')"
   ]
  }
 ],
 "metadata": {
  "kernelspec": {
   "display_name": "Python 3 (ipykernel)",
   "language": "python",
   "name": "python3"
  },
  "language_info": {
   "codemirror_mode": {
    "name": "ipython",
    "version": 3
   },
   "file_extension": ".py",
   "mimetype": "text/x-python",
   "name": "python",
   "nbconvert_exporter": "python",
   "pygments_lexer": "ipython3",
   "version": "3.9.12"
  }
 },
 "nbformat": 4,
 "nbformat_minor": 5
}
