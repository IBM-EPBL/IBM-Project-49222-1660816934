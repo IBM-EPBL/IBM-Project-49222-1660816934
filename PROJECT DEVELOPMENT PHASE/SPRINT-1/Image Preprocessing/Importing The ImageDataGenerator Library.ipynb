{
 "cells": [
  {
   "cell_type": "code",
   "execution_count": 4,
   "id": "87c92e1f",
   "metadata": {},
   "outputs": [],
   "source": [
    "#import Keras Library\n",
    "import keras\n",
    "#import ImageDataGenerator class from keras\n",
    "from keras.preprocessing.image import ImageDataGenerator\n"
   ]
  }
 ],
 "metadata": {
  "kernelspec": {
   "display_name": "Python 3 (ipykernel)",
   "language": "python",
   "name": "python3"
  },
  "language_info": {
   "codemirror_mode": {
    "name": "ipython",
    "version": 3
   },
   "file_extension": ".py",
   "mimetype": "text/x-python",
   "name": "python",
   "nbconvert_exporter": "python",
   "pygments_lexer": "ipython3",
   "version": "3.9.12"
  }
 },
 "nbformat": 4,
 "nbformat_minor": 5
}
