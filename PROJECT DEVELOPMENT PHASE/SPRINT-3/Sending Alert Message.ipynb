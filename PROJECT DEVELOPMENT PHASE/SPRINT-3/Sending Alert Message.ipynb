{
 "cells": [
  {
   "cell_type": "code",
   "execution_count": null,
   "id": "2f123d56",
   "metadata": {},
   "outputs": [],
   "source": [
    "#import opencv library\n",
    "import cv2\n",
    "#import numpy\n",
    "import numpy as np \n",
    "#import imag and load_model function from keras\n",
    "from keras.preprocessing import image\n",
    "from keras.models import load_model\n",
    "#import Client from twilio API\n",
    "from twilio.rest import client\n",
    "#import playsound package\n",
    "from playsound import playsound"
   ]
  },
  {
   "cell_type": "code",
   "execution_count": null,
   "id": "60eee1e3",
   "metadata": {},
   "outputs": [],
   "source": [
    "#load the saved model\n",
    "model = load_model(r'forest.h5')\n",
    "#define video\n",
    "video = cv2.videocapture(0)\n",
    "#define the features\n",
    "name = ['forest','with fire']"
   ]
  },
  {
   "cell_type": "code",
   "execution_count": null,
   "id": "847cf72e",
   "metadata": {},
   "outputs": [],
   "source": [
    "while(1):\n",
    "    success, frame = video.read()\n",
    "    cv2.imwrite(\"image.jpg\",frame)\n",
    "    img = image.load_img(\"image.jpg\",traget_size = (64,64))\n",
    "    x = image.img_to_array(img)\n",
    "    x = np.expand_dims(x,axis = 0)\n",
    "    pred = model.predict_classes(x)\n",
    "    p = pred[0]\n",
    "    print(pred)\n",
    "    cv2.putText(frame,\"predicted class = \"+str(name[p]),(100,100),cv2.FONT_HERSHEY_SIMPLEX,1, (0,0,0), 1)"
   ]
  },
  {
   "cell_type": "code",
   "execution_count": null,
   "id": "821f519d",
   "metadata": {},
   "outputs": [],
   "source": [
    "pred = model.predict_classes(x)\n",
    "if pred[0]==1:\n",
    "    #twilio account ssid\n",
    "    account_sid = 'AC3f73dcc73eb964ff8b6d46f8f57a8d86'\n",
    "    #twilio account authentication token\n",
    "    auth_token = 'bd27dc22501d6a933ef5916c2da45abd'\n",
    "    client = Client(account_sid, auth_token)\n",
    "    message = client.message \\\n",
    "    .create(\n",
    "        body='Forest Fire is detected, stay alert',\n",
    "        #use twilio free number\n",
    "        from_=' +13466448645',\n",
    "        to='+916379947017')\n",
    "    print(message.sid)\n",
    "    print('Fire Detected')\n",
    "    print ('SMS send!')\n",
    "    playsound(r'C:\\Users\\Hari\\Music\\Tornado Warning Siren Sound Effect freesound.mp3)"
   ]
  },
  {
   "cell_type": "code",
   "execution_count": null,
   "id": "228d3119",
   "metadata": {},
   "outputs": [],
   "source": [
    "else:\n",
    "    print(\"No Danger\")\n",
    "    #break\n",
    "cv2.imshow(\"image\",frame)\n",
    "if cv2.waitkey(1) & 0xFF == ord('a'):\n",
    "    break\n",
    "    \n",
    "video.release()\n",
    "cv2.destroyALLwindows()"
   ]
  }
 ],
 "metadata": {
  "kernelspec": {
   "display_name": "Python 3 (ipykernel)",
   "language": "python",
   "name": "python3"
  },
  "language_info": {
   "codemirror_mode": {
    "name": "ipython",
    "version": 3
   },
   "file_extension": ".py",
   "mimetype": "text/x-python",
   "name": "python",
   "nbconvert_exporter": "python",
   "pygments_lexer": "ipython3",
   "version": "3.9.12"
  }
 },
 "nbformat": 4,
 "nbformat_minor": 5
}
