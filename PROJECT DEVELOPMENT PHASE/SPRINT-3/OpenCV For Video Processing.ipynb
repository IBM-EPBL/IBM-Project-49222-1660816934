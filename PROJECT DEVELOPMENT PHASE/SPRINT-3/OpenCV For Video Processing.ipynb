{
 "cells": [
  {
   "cell_type": "code",
   "execution_count": null,
   "id": "9dacaa0a",
   "metadata": {},
   "outputs": [],
   "source": [
    "#import opencv library\n",
    "import cv2\n",
    "#import numpy\n",
    "import numpy as np\n",
    "#import image function from keras\n",
    "from keras.preprocessing import image\n",
    "#import load_model from keras\n",
    "from keras.models import load_model\n",
    "#import client from twilio API\n",
    "from twilio.rest import client\n",
    "#import playsound packages\n",
    "from playsound import playsound"
   ]
  },
  {
   "cell_type": "code",
   "execution_count": null,
   "id": "62dcdf16",
   "metadata": {},
   "outputs": [],
   "source": [
    "#load the saved model\n",
    "model = load_model(r'forest1.h5')\n",
    "#define video\n",
    "video = cv2.videocapture(0)\n",
    "#define the features\n",
    "name = ['forest','with fire']"
   ]
  }
 ],
 "metadata": {
  "kernelspec": {
   "display_name": "Python 3 (ipykernel)",
   "language": "python",
   "name": "python3"
  },
  "language_info": {
   "codemirror_mode": {
    "name": "ipython",
    "version": 3
   },
   "file_extension": ".py",
   "mimetype": "text/x-python",
   "name": "python",
   "nbconvert_exporter": "python",
   "pygments_lexer": "ipython3",
   "version": "3.9.12"
  }
 },
 "nbformat": 4,
 "nbformat_minor": 5
}
