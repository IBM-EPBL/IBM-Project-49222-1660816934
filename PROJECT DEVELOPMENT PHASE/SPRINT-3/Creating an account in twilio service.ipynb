{
 "cells": [
  {
   "cell_type": "code",
   "execution_count": 1,
   "id": "92c42804",
   "metadata": {},
   "outputs": [],
   "source": [
    "#twilio account ssid"
   ]
  },
  {
   "cell_type": "code",
   "execution_count": null,
   "id": "d7480909",
   "metadata": {},
   "outputs": [],
   "source": [
    "account_sid = 'AC3f73dcc73eb964ff8b6d46f8f57a8d86'"
   ]
  },
  {
   "cell_type": "code",
   "execution_count": 2,
   "id": "28534dc7",
   "metadata": {},
   "outputs": [],
   "source": [
    "#Twilio account authentication token"
   ]
  },
  {
   "cell_type": "code",
   "execution_count": null,
   "id": "960a9f13",
   "metadata": {},
   "outputs": [],
   "source": [
    "auth_token = 'bd27dc22501d6a933ef5916c2da45abd'"
   ]
  },
  {
   "cell_type": "code",
   "execution_count": null,
   "id": "cf803214",
   "metadata": {},
   "outputs": [],
   "source": [
    "client = Client(account_sid, auth_token)"
   ]
  },
  {
   "cell_type": "code",
   "execution_count": null,
   "id": "b956a3e3",
   "metadata": {},
   "outputs": [],
   "source": [
    "message = client.message \\\n",
    ".create(\n",
    "body='Forest Fire is detected, stay alert',\n",
    "#use twilio free number\n",
    "from_=' +13466448645',\n",
    "to='+916379947017')\n",
    "print(message.sid)"
   ]
  },
  {
   "cell_type": "markdown",
   "id": "1bcc99a4",
   "metadata": {},
   "source": []
  }
 ],
 "metadata": {
  "kernelspec": {
   "display_name": "Python 3 (ipykernel)",
   "language": "python",
   "name": "python3"
  },
  "language_info": {
   "codemirror_mode": {
    "name": "ipython",
    "version": 3
   },
   "file_extension": ".py",
   "mimetype": "text/x-python",
   "name": "python",
   "nbconvert_exporter": "python",
   "pygments_lexer": "ipython3",
   "version": "3.9.12"
  }
 },
 "nbformat": 4,
 "nbformat_minor": 5
}
