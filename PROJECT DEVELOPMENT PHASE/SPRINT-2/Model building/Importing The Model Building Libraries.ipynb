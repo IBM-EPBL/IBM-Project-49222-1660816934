{
 "cells": [
  {
   "cell_type": "code",
   "execution_count": null,
   "id": "a86259b9",
   "metadata": {},
   "outputs": [],
   "source": [
    "'''import model bulding libraries'''\n",
    "\n",
    "#To define linear intialisation import sequential\n",
    "from keras.models import sequential\n",
    "#To add layers import Dense\n",
    "from keras.layers import Dense\n",
    "#To create convolution kernel import convolution2D\n",
    "from keras.layers import Convolution2D\n",
    "#import Maxpooling layer\n",
    "from keras.layers import Maxpooling2D\n",
    "#import Flatten layer\n",
    "from keras.layer import Flatten\n",
    "import warnings\n",
    "warnings.filterwarnings('ignore')"
   ]
  }
 ],
 "metadata": {
  "kernelspec": {
   "display_name": "Python 3 (ipykernel)",
   "language": "python",
   "name": "python3"
  },
  "language_info": {
   "codemirror_mode": {
    "name": "ipython",
    "version": 3
   },
   "file_extension": ".py",
   "mimetype": "text/x-python",
   "name": "python",
   "nbconvert_exporter": "python",
   "pygments_lexer": "ipython3",
   "version": "3.9.12"
  }
 },
 "nbformat": 4,
 "nbformat_minor": 5
}
