{
 "cells": [
  {
   "cell_type": "code",
   "execution_count": 22,
   "id": "48c927c1",
   "metadata": {},
   "outputs": [
    {
     "name": "stdout",
     "output_type": "stream",
     "text": [
      "Epoch 1/10\n",
      "14/14 [==============================] - 84s 6s/step - loss: 1.6833 - accuracy: 0.7638 - val_loss: 0.1221 - val_accuracy: 0.9587\n",
      "Epoch 2/10\n",
      "14/14 [==============================] - 50s 4s/step - loss: 0.2821 - accuracy: 0.9037 - val_loss: 0.1196 - val_accuracy: 0.9752\n",
      "Epoch 3/10\n",
      "14/14 [==============================] - 49s 4s/step - loss: 0.3483 - accuracy: 0.8945 - val_loss: 0.0943 - val_accuracy: 0.9752\n",
      "Epoch 4/10\n",
      "14/14 [==============================] - 47s 3s/step - loss: 0.2288 - accuracy: 0.9060 - val_loss: 0.2415 - val_accuracy: 0.9008\n",
      "Epoch 5/10\n",
      "14/14 [==============================] - 50s 4s/step - loss: 0.3280 - accuracy: 0.8624 - val_loss: 0.1195 - val_accuracy: 0.9504\n",
      "Epoch 6/10\n",
      "14/14 [==============================] - 51s 4s/step - loss: 0.1666 - accuracy: 0.9335 - val_loss: 0.0852 - val_accuracy: 0.9669\n",
      "Epoch 7/10\n",
      "14/14 [==============================] - 47s 3s/step - loss: 0.1663 - accuracy: 0.9312 - val_loss: 0.0717 - val_accuracy: 0.9835\n",
      "Epoch 8/10\n",
      "14/14 [==============================] - 47s 3s/step - loss: 0.1543 - accuracy: 0.9450 - val_loss: 0.1317 - val_accuracy: 0.9091\n",
      "Epoch 9/10\n",
      "14/14 [==============================] - 46s 3s/step - loss: 0.1673 - accuracy: 0.9335 - val_loss: 0.0533 - val_accuracy: 0.9917\n",
      "Epoch 10/10\n",
      "14/14 [==============================] - 48s 3s/step - loss: 0.1414 - accuracy: 0.9518 - val_loss: 0.0599 - val_accuracy: 0.9835\n"
     ]
    },
    {
     "data": {
      "text/plain": [
       "<keras.callbacks.History at 0x1bedb0bd8b0>"
      ]
     },
     "execution_count": 22,
     "metadata": {},
     "output_type": "execute_result"
    }
   ],
   "source": [
    "#training the model\n",
    "model.fit_generator(x_train,steps_per_epoch=14,epochs=10,validation_data=x_test,validation_steps=4)"
   ]
  }
 ],
 "metadata": {
  "kernelspec": {
   "display_name": "Python 3 (ipykernel)",
   "language": "python",
   "name": "python3"
  },
  "language_info": {
   "codemirror_mode": {
    "name": "ipython",
    "version": 3
   },
   "file_extension": ".py",
   "mimetype": "text/x-python",
   "name": "python",
   "nbconvert_exporter": "python",
   "pygments_lexer": "ipython3",
   "version": "3.9.12"
  }
 },
 "nbformat": 4,
 "nbformat_minor": 5
}
